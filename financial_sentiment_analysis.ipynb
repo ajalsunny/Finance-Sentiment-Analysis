{
  "nbformat": 4,
  "nbformat_minor": 0,
  "metadata": {
    "colab": {
      "provenance": []
    },
    "kernelspec": {
      "name": "python3",
      "display_name": "Python 3"
    },
    "language_info": {
      "name": "python"
    }
  },
  "cells": [
    {
      "cell_type": "code",
      "execution_count": null,
      "metadata": {
        "id": "VPJt4WTIzhDX"
      },
      "outputs": [],
      "source": []
    },
    {
      "cell_type": "markdown",
      "metadata": {
        "id": "24d6a79d"
      },
      "source": [
        "# MS5114 Assignment 1\n",
        "\n",
        "In this assignment, you are required to analyze data from Yahoo Finance website using three Python libraries (i.e. `yfinance`, `tensorflow` and `transformers`). Make sure that the required libraries are installed in your Python distribution (use Anaconda Navigator or `pip` command for this purpose). You are to expected have knowledge of following topics to solve the problems.\n",
        "\n",
        "* data types, operators, conditions, functions\n",
        "* lists, dictionaries, tuples, data frames\n",
        "* strings\n",
        "\n",
        "For details of relevant libraries visit following\n",
        "\n",
        "* https://aroussi.com/post/python-yahoo-finance\n",
        "* https://huggingface.co/blog/sentiment-analysis-python\n",
        "\n",
        "### Name: _replace this text with student name_\n",
        "### Student Id: _replace this text with student id_"
      ]
    },
    {
      "cell_type": "code",
      "execution_count": null,
      "metadata": {
        "id": "ba9b80e1",
        "colab": {
          "base_uri": "https://localhost:8080/"
        },
        "outputId": "7a75a962-e7ea-49ae-983d-de1e4551fc5d"
      },
      "outputs": [
        {
          "output_type": "stream",
          "name": "stderr",
          "text": [
            "/usr/local/lib/python3.10/dist-packages/yfinance/base.py:48: FutureWarning: The default dtype for empty Series will be 'object' instead of 'float64' in a future version. Specify a dtype explicitly to silence this warning.\n",
            "  _empty_series = pd.Series()\n"
          ]
        }
      ],
      "source": [
        "# import required libraries\n",
        "import yfinance as yf\n",
        "from transformers import pipeline"
      ]
    },
    {
      "cell_type": "markdown",
      "metadata": {
        "id": "9cfe3f22-58af-430d-8f51-5d924f783345"
      },
      "source": [
        "## Problem 1\n",
        "\n",
        "Write a function `calc_returns(prices)`. This function will process a list of stock prices and calculate the periodic returns. The function should assume that the oldest price is in `prices[0]` and latest price in `prices[-1]`. The function should use a loop to accumulate a list of returns for periods 1 to n. The periodic rate of return is calculated as the rate of change in price from the previous period, i.e.,\n",
        "\n",
        "$r_i = \\frac{p_i}{p_{i - 1}} - 1$\n",
        "\n",
        "For example:\n",
        "\n",
        "```\n",
        ">>> prices = [100,110,105,112,115]\n",
        ">>> returns = calc_returns(prices)\n",
        ">>> print(returns)`\n",
        "[0.10000000000000009, -0.045454545454545414, 0.06666666666666665, 0.02678571428571419]\n",
        "```\n",
        "\n",
        "_Notes_:\n",
        "\n",
        "* For $n$ stock prices, you will generate a list of $n-1$ periodic returns. There is no return for period $0$.\n",
        "* The function `calc_prices` should not print any output, but rather creates and returns a list of periodic rates of return.\n",
        "* When computing with binary floating point numbers, there is a small representational error which might result in an unexpected value in the insignificant digits (e.g., (110 - 100) / 100 gave a result of 0.10000000000000009.) Do not be alarmed by this small error!\n",
        "* The values in the list of returns will be unformatted floating-point numbers; you can use the `round()` function to round up to 2 decimal points."
      ]
    },
    {
      "cell_type": "code",
      "execution_count": null,
      "metadata": {
        "id": "b31a0c0c-b5f3-4253-b598-3ed65395a68b"
      },
      "outputs": [],
      "source": [
        "# this is an empty fuction\n",
        "def calc_returns(prices):\n",
        "    \"\"\"\n",
        "    Calculate the periodic returns based on a list of stock prices.\n",
        "\n",
        "    Args:\n",
        "    - prices (list of float): List of stock prices\n",
        "\n",
        "    Returns:\n",
        "    - returns (list of float): List of periodic returns\n",
        "    \"\"\"\n",
        "    returns = []\n",
        "    for i in range(1, len(prices)):\n",
        "        # Calculate periodic rate of return\n",
        "        ret = (prices[i] / prices[i - 1]) - 1\n",
        "        returns.append(round(ret, 2))\n",
        "    return returns"
      ]
    },
    {
      "cell_type": "markdown",
      "metadata": {
        "id": "efc2827d-eb67-44c6-a35d-e80dd631b8ac"
      },
      "source": [
        "Analyze stock prices and returns for a specific period e.g. 1 week or 2 weeks.\n",
        "\n",
        "* Using `yfinance` library, load the data about a company's share prices using their stock ticker e.g. \"MSFT\" for Microsoft.\n",
        "* Extract the list of closing prices for each day.\n",
        "* Use the `calc_returns()` function to calculate the list to returns.\n",
        "* Print both stock prices and returns.\n",
        "* Explain the trend in stock prices and returns.\n",
        "\n",
        "_Note: Avoid using ticker for popular companies so that there is no overlap of tickers between students. Look your Yahoo Finance website to find a different company and its ticker_"
      ]
    },
    {
      "cell_type": "code",
      "execution_count": null,
      "metadata": {
        "id": "7dd6c85d-6d93-4e5f-b9f6-09a774ff9999",
        "colab": {
          "base_uri": "https://localhost:8080/"
        },
        "outputId": "d4736973-3347-4ae4-c000-ec3bb23b0659"
      },
      "outputs": [
        {
          "output_type": "stream",
          "name": "stderr",
          "text": [
            "\r[*********************100%%**********************]  1 of 1 completed"
          ]
        },
        {
          "output_type": "stream",
          "name": "stdout",
          "text": [
            "Stock Prices:\n",
            "Date\n",
            "2024-01-01    3811.100098\n",
            "2024-01-02    3783.199951\n",
            "2024-01-03    3691.750000\n",
            "2024-01-04    3666.800049\n",
            "2024-01-05    3737.899902\n",
            "2024-01-08    3678.300049\n",
            "2024-01-09    3689.899902\n",
            "2024-01-10    3713.050049\n",
            "2024-01-11    3735.550049\n",
            "2024-01-12    3882.800049\n",
            "2024-01-15    3903.800049\n",
            "2024-01-16    3861.300049\n",
            "2024-01-17    3884.600098\n",
            "2024-01-18    3902.600098\n",
            "2024-01-19    3943.050049\n",
            "2024-01-22    3943.050049\n",
            "2024-01-23    3858.250000\n",
            "2024-01-24    3841.800049\n",
            "2024-01-25    3810.300049\n",
            "Name: Close, dtype: float64\n",
            "\n",
            "Returns:\n",
            "[-0.01, -0.02, -0.01, 0.02, -0.02, 0.0, 0.01, 0.01, 0.04, 0.01, -0.01, 0.01, 0.0, 0.01, 0.0, -0.02, -0.0, -0.01]\n"
          ]
        },
        {
          "output_type": "stream",
          "name": "stderr",
          "text": [
            "\n"
          ]
        }
      ],
      "source": [
        "# code for above analysis goes here\n",
        "# Load data for a specific company, e.g., \"AAPL\" for Apple\n",
        "ticker = \"TCS.NS\"\n",
        "stock_data = yf.download(ticker, start=\"2024-01-01\", end=\"2024-01-29\")\n",
        "\n",
        "# Extract closing prices\n",
        "closing_prices = stock_data['Close']\n",
        "\n",
        "# Calculate returns\n",
        "returns = calc_returns(closing_prices)\n",
        "\n",
        "print(\"Stock Prices:\")\n",
        "print(closing_prices)\n",
        "print(\"\\nReturns:\")\n",
        "print(returns)\n",
        "\n",
        "# Explanation of trend in stock prices and returns:\n",
        "# The stock prices show the daily closing prices for the given period.\n",
        "# The returns represent the percentage change in price from the previous day.\n",
        "# Positive returns indicate price increases, while negative returns indicate price decreases.\n",
        "# By analyzing the returns, we can identify the trend in the stock's performance over the period."
      ]
    },
    {
      "cell_type": "markdown",
      "metadata": {
        "id": "ca0dabdf-6b3e-4c97-bdb0-a1086ebc0f6b"
      },
      "source": [
        "## Problem 2\n",
        "Write a function `calc_simple_moving_average(prices, window_size)`. This function will process a list of stock prices and calculate the simple moving average based on a specified window size. The function should assume that the oldest price is in `prices[0]` and latest price in `prices[-1]`. The function should use a loop to calculate a list of moving averages for periods $1$ to $n$. The simple moving average is calculate within a specific window $k$ and shifting throught the list of prices , i.e.,\n",
        "\n",
        "$a_i = \\frac{1}{k} \\sum_{i}^{i+k} p_i$\n",
        "\n",
        "For example:\n",
        "\n",
        "```\n",
        ">>> prices = [100,110,105,112,115]\n",
        ">>> averages = calc_simple_moving_average(prices, 3)\n",
        ">>> print(averages)`\n",
        "[105, 109, 110.666666667]\n",
        "```\n",
        "\n",
        "_Notes_:\n",
        "\n",
        "* For $n$ stock prices, you will generate a list of $n-k+1$ averages. There is no average for first $k-1$ prices.\n",
        "* The function `calc_simple_moving_average` should not print any output, but rather creates and returns a list of averages.\n",
        "* The values in the list of returns will be unformatted floating-point numbers; you can use the `round()` function to round up to 2 decimal points.\n"
      ]
    },
    {
      "cell_type": "code",
      "execution_count": null,
      "metadata": {
        "id": "9dd09cda-6440-4f7b-beb0-d8c91d61a493"
      },
      "outputs": [],
      "source": [
        "# this is an empty fuction\n",
        "def calc_simple_moving_average(prices, window_size):\n",
        "    \"\"\"\n",
        "    Calculate the simple moving average based on a specified window size.\n",
        "\n",
        "    Args:\n",
        "    - prices (list of float): List of stock prices\n",
        "    - window_size (int): Size of the moving window\n",
        "\n",
        "    Returns:\n",
        "    - averages (list of float): List of moving averages\n",
        "    \"\"\"\n",
        "    averages = []\n",
        "    for i in range(len(prices) - window_size + 1):\n",
        "        # Calculate moving average for each window\n",
        "        average = sum(prices[i:i+window_size]) / window_size\n",
        "        averages.append(round(average, 2))\n",
        "    return averages"
      ]
    },
    {
      "cell_type": "markdown",
      "metadata": {
        "id": "e61cab02-a240-419b-b9bf-31989cfac503"
      },
      "source": [
        "Analyze stock prices and averages for a specific period e.g. 1 month or 2 months.\n",
        "\n",
        "* Using `yfinance` library, load the data about a company's share prices using their stock ticker e.g. \"MSFT\" for Microsoft.\n",
        "* Extract the list of closing prices for each day.\n",
        "* Use the `calc_simple_moving_average()` function to calculate the simple moving average.\n",
        "* Print both stock prices and averages.\n",
        "* Explain the trend in stock prices and averages.\n",
        "\n",
        "_Note: You can use the same ticker here as for the previous problem_"
      ]
    },
    {
      "cell_type": "code",
      "execution_count": null,
      "metadata": {
        "id": "fde37a2e-ee13-4b39-b3f2-7a56ddf02bef",
        "colab": {
          "base_uri": "https://localhost:8080/"
        },
        "outputId": "11366ee8-159c-4382-f30b-c5a4792bd655"
      },
      "outputs": [
        {
          "output_type": "stream",
          "name": "stdout",
          "text": [
            "\n",
            "Stock Prices:\n",
            "Date\n",
            "2024-01-01    3811.100098\n",
            "2024-01-02    3783.199951\n",
            "2024-01-03    3691.750000\n",
            "2024-01-04    3666.800049\n",
            "2024-01-05    3737.899902\n",
            "2024-01-08    3678.300049\n",
            "2024-01-09    3689.899902\n",
            "2024-01-10    3713.050049\n",
            "2024-01-11    3735.550049\n",
            "2024-01-12    3882.800049\n",
            "2024-01-15    3903.800049\n",
            "2024-01-16    3861.300049\n",
            "2024-01-17    3884.600098\n",
            "2024-01-18    3902.600098\n",
            "2024-01-19    3943.050049\n",
            "2024-01-22    3943.050049\n",
            "2024-01-23    3858.250000\n",
            "2024-01-24    3841.800049\n",
            "2024-01-25    3810.300049\n",
            "Name: Close, dtype: float64\n",
            "\n",
            "Simple Moving Averages (Window Size=5):\n",
            "[3738.15, 3711.59, 3692.93, 3697.19, 3710.94, 3739.92, 3785.02, 3819.3, 3853.61, 3887.02, 3899.07, 3906.92, 3906.31, 3897.75, 3879.29]\n"
          ]
        }
      ],
      "source": [
        "# code for above analysis goes here\n",
        "# Load data for the same company as in Problem 1\n",
        "# For consistency, let's use the same ticker \"AAPL\"\n",
        "\n",
        "# Extract closing prices (already done in Problem 1)\n",
        "# Calculate simple moving averages\n",
        "window_size = 5  # Example window size\n",
        "averages = calc_simple_moving_average(closing_prices, window_size)\n",
        "\n",
        "print(\"\\nStock Prices:\")\n",
        "print(closing_prices)\n",
        "print(\"\\nSimple Moving Averages (Window Size={}):\".format(window_size))\n",
        "print(averages)\n",
        "\n",
        "# Explanation of trend in stock prices and averages:\n",
        "# The simple moving averages provide a smoothed representation of the stock prices over the specified window size.\n",
        "# By comparing the moving averages with the actual prices, we can identify trends and potential buy/sell signals.\n",
        "# When the price is above the moving average, it may indicate an upward trend, and vice versa."
      ]
    },
    {
      "cell_type": "markdown",
      "metadata": {
        "id": "86ff75fb-1e6f-4de5-a01c-88a8ffe9736d"
      },
      "source": [
        "## Problem 3\n",
        "\n",
        "Find out the sentiment of recent news about a company.\n",
        "\n",
        "* Using `yfinance` library, load the news about a company using their stock ticker e.g. \"MSFT\" for Microsoft.\n",
        "* Extract the list of news titles.\n",
        "* Use the `sentiment_pipeline()` function from `transformers` library to calculate the sentiment for each title.\n",
        "* Print both news and sentiment.\n",
        "* Explain the sentiment in news.\n",
        "\n",
        "_Note: You can use the same ticker here as for the previous problem_"
      ]
    },
    {
      "cell_type": "code",
      "execution_count": null,
      "metadata": {
        "id": "6eafaef1"
      },
      "outputs": [],
      "source": [
        "# code for above analysis goes here\n",
        "def sentiment_analysis(ticker):\n",
        "    \"\"\"\n",
        "    Perform sentiment analysis on recent news about a company using its stock ticker.\n",
        "\n",
        "    Args:\n",
        "    - ticker (str): Stock ticker symbol of the company\n",
        "\n",
        "    Returns:\n",
        "    - news_sentiments (list of dict): List of dictionaries containing news titles and corresponding sentiment scores\n",
        "    \"\"\"\n",
        "    # Load news data\n",
        "    company = yf.Ticker(ticker)\n",
        "    news_df = company.news\n",
        "\n",
        "    # Extract news titles\n",
        "    news_titles = news_df[0]['title']\n",
        "    #news_titless = news_df[0].tolist()\n",
        "\n",
        "    # Initialize sentiment pipeline\n",
        "    sentiment_pipeline = pipeline(\"sentiment-analysis\")\n",
        "\n",
        "    # Analyze sentiment for news title\n",
        "    news_sentiments = []\n",
        "    #for title in news_titles:\n",
        "        # Perform sentiment analysis\n",
        "    result = sentiment_pipeline(news_titles)\n",
        "        # Extract sentiment score\n",
        "    sentiment_score = result[0]['score']\n",
        "        # Store title and sentiment score in a dictionary\n",
        "    news_sentiments.append({'title': news_titles, 'sentiment_score': sentiment_score})\n",
        "\n",
        "    return news_sentiments"
      ]
    },
    {
      "cell_type": "code",
      "source": [
        "news_sentiments = sentiment_analysis(ticker)\n",
        "\n",
        "print(\"\\nRecent News and Sentiments:\")\n",
        "if isinstance(news_sentiments, str):\n",
        "    print(news_sentiments)\n",
        "else:\n",
        "    for news in news_sentiments:\n",
        "        print(news['title'], \"-\", news['sentiment_score'])"
      ],
      "metadata": {
        "id": "z3Wn0pX97lfm",
        "colab": {
          "base_uri": "https://localhost:8080/",
          "height": 356,
          "referenced_widgets": [
            "51aef072a2fc46959dc9a95e55d50808",
            "a6a0d6bbe66e4d04965d41d4df2fd220",
            "b9823f2b44094012b369be426ec0e130",
            "c9bfaa1750ca4ceead7431bff3a9d073",
            "3d3b2ee2db394b36a450b4bb67395dce",
            "837e6c78f5f8455fac3b9c4f7941d8d8",
            "af2f8458b3d14b9489e5d0afecb44b47",
            "4c67b47cfcd94c9385a5cb7049f0bc42",
            "ce3dac096e9f4f289d4683585981d746",
            "14ac702280094fd4ac5e9a07a4f8f70c",
            "bfcaf39f55a249ae8fc7641a0739c128",
            "8434cd4993b246219ecc4fb48fd37ec8",
            "7e97905673b04b14afe50217e4e58839",
            "46d60e78f7564edfa0f3c69990645663",
            "2d4a9ef18d26430bac8f8d7c470781f8",
            "375c034757e9484d9c55f58a8c3c19b2",
            "0151f828806c48a5aa52d370816d313e",
            "3ac47fe47a854e0f9abbc964b57e844c",
            "3e0ae848c8c249c090383088e441cc88",
            "34f9e6e39b0949ef98247acc6bb86a1d",
            "a39b0b45fbdf4b3badd4b84ddc98b648",
            "c1ec5b969a2c4afe939e61b40496ace6",
            "d0f0aa3c06f44400a6fbe33a5670f6d8",
            "3c07eb314e554b5087a653339df74505",
            "788d753db0984c01a9a0887b1db9af54",
            "765e58dea49e4ab8b653f200e06a2c7b",
            "9d8c8aa63f764e9a9630509d8c1da1ca",
            "de9cfc899036401aa75aa7d355a825e8",
            "6c7bd0f6d2c748198b3cddc84a66bdf0",
            "30331493559542a1bb197936418af709",
            "e9a11ee369024a68b056bff086b5557a",
            "fd7f32aa33d8434b80853694f0605ff5",
            "5d54b4477f2c4b94adb143b7c272c60c",
            "589ff2f3dea54fe1b3f1c55f625e2ffe",
            "488bc3f9f3a648e9b235100b7fbaffbb",
            "bea06f5aaf944bc2b66338ec23b68553",
            "8bbf9835acc74e1fbd8faa953295cf3f",
            "5f76f6e0145a460f9155f68d1dee4a3e",
            "e85e523307f84f2bba2302d3ddde5bee",
            "288898cd64584a53aaf30d7108475bf6",
            "c43006f79e1b44768a2529ac81ca43a7",
            "e56c5bedf99e402db61989683fb71292",
            "2a29b340b61c4244937858ad2fd296b0",
            "3f9458acf42d4ceaa1d44515b8b565f3"
          ]
        },
        "outputId": "be209de7-e6ab-42fe-fbc9-da64bef9d525"
      },
      "execution_count": null,
      "outputs": [
        {
          "output_type": "stream",
          "name": "stderr",
          "text": [
            "No model was supplied, defaulted to distilbert-base-uncased-finetuned-sst-2-english and revision af0f99b (https://huggingface.co/distilbert-base-uncased-finetuned-sst-2-english).\n",
            "Using a pipeline without specifying a model name and revision in production is not recommended.\n",
            "/usr/local/lib/python3.10/dist-packages/huggingface_hub/utils/_token.py:88: UserWarning: \n",
            "The secret `HF_TOKEN` does not exist in your Colab secrets.\n",
            "To authenticate with the Hugging Face Hub, create a token in your settings tab (https://huggingface.co/settings/tokens), set it as secret in your Google Colab and restart your session.\n",
            "You will be able to reuse this secret in all of your notebooks.\n",
            "Please note that authentication is recommended but still optional to access public models or datasets.\n",
            "  warnings.warn(\n"
          ]
        },
        {
          "output_type": "display_data",
          "data": {
            "text/plain": [
              "config.json:   0%|          | 0.00/629 [00:00<?, ?B/s]"
            ],
            "application/vnd.jupyter.widget-view+json": {
              "version_major": 2,
              "version_minor": 0,
              "model_id": "51aef072a2fc46959dc9a95e55d50808"
            }
          },
          "metadata": {}
        },
        {
          "output_type": "display_data",
          "data": {
            "text/plain": [
              "model.safetensors:   0%|          | 0.00/268M [00:00<?, ?B/s]"
            ],
            "application/vnd.jupyter.widget-view+json": {
              "version_major": 2,
              "version_minor": 0,
              "model_id": "8434cd4993b246219ecc4fb48fd37ec8"
            }
          },
          "metadata": {}
        },
        {
          "output_type": "display_data",
          "data": {
            "text/plain": [
              "tokenizer_config.json:   0%|          | 0.00/48.0 [00:00<?, ?B/s]"
            ],
            "application/vnd.jupyter.widget-view+json": {
              "version_major": 2,
              "version_minor": 0,
              "model_id": "d0f0aa3c06f44400a6fbe33a5670f6d8"
            }
          },
          "metadata": {}
        },
        {
          "output_type": "display_data",
          "data": {
            "text/plain": [
              "vocab.txt:   0%|          | 0.00/232k [00:00<?, ?B/s]"
            ],
            "application/vnd.jupyter.widget-view+json": {
              "version_major": 2,
              "version_minor": 0,
              "model_id": "589ff2f3dea54fe1b3f1c55f625e2ffe"
            }
          },
          "metadata": {}
        },
        {
          "output_type": "stream",
          "name": "stdout",
          "text": [
            "\n",
            "Recent News and Sentiments:\n",
            "SKRR Exploration Inc. Announces Definitive Agreement with X1 Entertainment Group Inc. for the Manson Bay Project, Saskatchewan - 0.8283730149269104\n"
          ]
        }
      ]
    }
  ]
}